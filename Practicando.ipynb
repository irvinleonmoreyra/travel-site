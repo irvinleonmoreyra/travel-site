{
 "cells": [
  {
   "cell_type": "code",
   "execution_count": null,
   "id": "d48ee038",
   "metadata": {},
   "outputs": [],
   "source": [
    "import pandas as pd"
   ]
  },
  {
   "cell_type": "code",
   "execution_count": null,
   "id": "e498e23a",
   "metadata": {},
   "outputs": [],
   "source": [
    "5+5"
   ]
  },
  {
   "cell_type": "code",
   "execution_count": null,
   "id": "5ddda461",
   "metadata": {},
   "outputs": [],
   "source": [
    "print (5+5)"
   ]
  },
  {
   "cell_type": "code",
   "execution_count": null,
   "id": "7c642111",
   "metadata": {},
   "outputs": [],
   "source": []
  }
 ],
 "metadata": {
  "kernelspec": {
   "display_name": "Python 3",
   "language": "python",
   "name": "python3"
  }
 },
 "nbformat": 4,
 "nbformat_minor": 5
}
